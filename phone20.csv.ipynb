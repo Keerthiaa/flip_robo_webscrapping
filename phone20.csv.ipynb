{
 "cells": [
  {
   "cell_type": "code",
   "execution_count": null,
   "metadata": {},
   "outputs": [],
   "source": []
  },
  {
   "cell_type": "code",
   "execution_count": 1,
   "metadata": {},
   "outputs": [
    {
     "name": "stdout",
     "output_type": "stream",
     "text": [
      "Collecting selenium\n",
      "  Downloading selenium-3.141.0-py2.py3-none-any.whl (904 kB)\n",
      "Requirement already satisfied: urllib3 in c:\\users\\admin\\anaconda3\\lib\\site-packages (from selenium) (1.25.9)\n",
      "Installing collected packages: selenium\n",
      "Successfully installed selenium-3.141.0\n"
     ]
    }
   ],
   "source": [
    "!pip install selenium\n"
   ]
  },
  {
   "cell_type": "code",
   "execution_count": 4,
   "metadata": {},
   "outputs": [],
   "source": [
    "import selenium\n",
    "import pandas as pd\n",
    "import time\n",
    "from selenium import webdriver\n",
    "from selenium.common.exceptions import StaleElementReferenceException, NoSuchElementException ,ElementNotInteractableException,InvalidElementStateException\n"
   ]
  },
  {
   "cell_type": "code",
   "execution_count": 5,
   "metadata": {},
   "outputs": [],
   "source": [
    "driver=webdriver.Chrome(r\"C:\\Users\\Admin\\Downloads\\chromedriver.exe\")"
   ]
  },
  {
   "cell_type": "code",
   "execution_count": 6,
   "metadata": {},
   "outputs": [],
   "source": [
    "url='https://www.amazon.in/s?k=mobile+phones+under+20000'"
   ]
  },
  {
   "cell_type": "code",
   "execution_count": 7,
   "metadata": {},
   "outputs": [],
   "source": [
    "driver.get(url)"
   ]
  },
  {
   "cell_type": "code",
   "execution_count": 8,
   "metadata": {},
   "outputs": [],
   "source": [
    "Product_Name=[]\n",
    "Product_link=[]\n",
    "Price=[]\n",
    "Image_URL=[]\n",
    "Average_Rating=[]\n"
   ]
  },
  {
   "cell_type": "code",
   "execution_count": null,
   "metadata": {},
   "outputs": [],
   "source": []
  },
  {
   "cell_type": "code",
   "execution_count": 9,
   "metadata": {},
   "outputs": [],
   "source": [
    "for i in range(0,18):\n",
    "    url_tags=driver.find_elements_by_xpath(\"//a[@class='a-link-normal a-text-normal']\")\n",
    "    for j in url_tags:\n",
    "        Product_link.append(j.get_attribute('href'))\n",
    "    name_tags=driver.find_elements_by_xpath(\"//span[@class='a-size-medium a-color-base a-text-normal']\")\n",
    "    for i in name_tags:\n",
    "        Product_Name.append(i.text)\n",
    "    for k in driver.find_elements_by_xpath(\"//div[@class='a-section aok-relative s-image-fixed-height']/img\"):\n",
    "        Image_URL.append(k.get_attribute('src'))\n",
    "    driver.find_element_by_xpath(\"//li[@class='a-last']\").click()\n",
    "    time.sleep(3)\n",
    "    \n"
   ]
  },
  {
   "cell_type": "code",
   "execution_count": null,
   "metadata": {},
   "outputs": [],
   "source": [
    "   \n",
    "    <div class=\"a-section aok-relative s-image-fixed-height\">\n",
    "<span class=\"a-price-whole\">11,990</span>\n",
    "\n",
    "<td class=\"a-span12\">\n",
    "\n",
    "\n",
    "\n",
    "\n",
    "\n",
    "<span id=\"priceblock_ourprice\" class=\"a-size-medium a-color-price priceBlockBuyingPriceString\">₹&nbsp;4,999.00</span>\n",
    "\n",
    "<span id=\"price-shipping-message\" class=\"a-size-base a-color-base\"></span>"
   ]
  },
  {
   "cell_type": "code",
   "execution_count": 10,
   "metadata": {},
   "outputs": [],
   "source": [
    "for j in Product_link:\n",
    "    driver.get(j)\n",
    "    try:\n",
    "        Price.append((driver.find_element_by_xpath(\"//td[@class='a-span12']/span\")).text)\n",
    "    except NoSuchElementException:\n",
    "        Price.append(\"NA\")"
   ]
  },
  {
   "cell_type": "code",
   "execution_count": 11,
   "metadata": {},
   "outputs": [],
   "source": [
    "for j in Product_link:\n",
    "    driver.get(j)\n",
    "    try:\n",
    "        Average_Rating.append((driver.find_element_by_xpath(\"//span[@class='a-declarative']/span\")).text)\n",
    "    except NoSuchElementException:\n",
    "        Average_Rating.append(\"NA\")"
   ]
  },
  {
   "cell_type": "code",
   "execution_count": 12,
   "metadata": {},
   "outputs": [
    {
     "name": "stdout",
     "output_type": "stream",
     "text": [
      "308 308 308 308 308\n"
     ]
    }
   ],
   "source": [
    "print(len(Product_Name),len(Product_link),len(Price),len(Image_URL),len(Average_Rating))"
   ]
  },
  {
   "cell_type": "code",
   "execution_count": 13,
   "metadata": {},
   "outputs": [],
   "source": [
    "import pandas as pd\n"
   ]
  },
  {
   "cell_type": "code",
   "execution_count": 14,
   "metadata": {},
   "outputs": [],
   "source": [
    "df={'Product_Name':Product_Name,'Image_URL':Image_URL,'Average_Rating':Average_Rating,'Price':Price,'Product_link':Product_link}\n"
   ]
  },
  {
   "cell_type": "code",
   "execution_count": 18,
   "metadata": {},
   "outputs": [],
   "source": [
    "Phone_under_20000= pd.DataFrame(data = df)"
   ]
  },
  {
   "cell_type": "code",
   "execution_count": 19,
   "metadata": {},
   "outputs": [
    {
     "data": {
      "text/html": [
       "<div>\n",
       "<style scoped>\n",
       "    .dataframe tbody tr th:only-of-type {\n",
       "        vertical-align: middle;\n",
       "    }\n",
       "\n",
       "    .dataframe tbody tr th {\n",
       "        vertical-align: top;\n",
       "    }\n",
       "\n",
       "    .dataframe thead th {\n",
       "        text-align: right;\n",
       "    }\n",
       "</style>\n",
       "<table border=\"1\" class=\"dataframe\">\n",
       "  <thead>\n",
       "    <tr style=\"text-align: right;\">\n",
       "      <th></th>\n",
       "      <th>Product_Name</th>\n",
       "      <th>Image_URL</th>\n",
       "      <th>Average_Rating</th>\n",
       "      <th>Price</th>\n",
       "      <th>Product_link</th>\n",
       "    </tr>\n",
       "  </thead>\n",
       "  <tbody>\n",
       "    <tr>\n",
       "      <th>0</th>\n",
       "      <td>Oppo A31 (Mystery Black, 6GB RAM, 128GB Storag...</td>\n",
       "      <td>https://m.media-amazon.com/images/I/71KCwNV6Mu...</td>\n",
       "      <td></td>\n",
       "      <td>₹ 11,990.00</td>\n",
       "      <td>https://www.amazon.in/gp/slredirect/picassoRed...</td>\n",
       "    </tr>\n",
       "    <tr>\n",
       "      <th>1</th>\n",
       "      <td>Lava Z6 Aqua Blue, 6GB RAM, 64GB Storage</td>\n",
       "      <td>https://m.media-amazon.com/images/I/71QGVjsVNR...</td>\n",
       "      <td></td>\n",
       "      <td>₹ 9,999.00</td>\n",
       "      <td>https://www.amazon.in/gp/slredirect/picassoRed...</td>\n",
       "    </tr>\n",
       "    <tr>\n",
       "      <th>2</th>\n",
       "      <td>Redmi 9 (Sky Blue, 4GB RAM, 64GB Storage) | Ex...</td>\n",
       "      <td>https://m.media-amazon.com/images/I/71A9Vo1Bat...</td>\n",
       "      <td></td>\n",
       "      <td>₹ 8,799.00</td>\n",
       "      <td>https://www.amazon.in/Redmi-Sky-Blue-64GB-Stor...</td>\n",
       "    </tr>\n",
       "    <tr>\n",
       "      <th>3</th>\n",
       "      <td>Samsung Galaxy M21 (Midnight Blue, 4GB RAM, 64...</td>\n",
       "      <td>https://m.media-amazon.com/images/I/71dujTTJDZ...</td>\n",
       "      <td></td>\n",
       "      <td>₹ 13,999.00</td>\n",
       "      <td>https://www.amazon.in/Samsung-Galaxy-Midnight-...</td>\n",
       "    </tr>\n",
       "    <tr>\n",
       "      <th>4</th>\n",
       "      <td>Redmi 9A (Nature Green, 2GB Ram, 32GB Storage)...</td>\n",
       "      <td>https://m.media-amazon.com/images/I/71sxlhYhKW...</td>\n",
       "      <td></td>\n",
       "      <td>₹ 6,799.00</td>\n",
       "      <td>https://www.amazon.in/Redmi-9A-2GB-32GB-Storag...</td>\n",
       "    </tr>\n",
       "    <tr>\n",
       "      <th>...</th>\n",
       "      <td>...</td>\n",
       "      <td>...</td>\n",
       "      <td>...</td>\n",
       "      <td>...</td>\n",
       "      <td>...</td>\n",
       "    </tr>\n",
       "    <tr>\n",
       "      <th>303</th>\n",
       "      <td>Lava Z66 (Marine Blue, 3GB RAM, 32GB Storage)</td>\n",
       "      <td>https://m.media-amazon.com/images/I/61U+VB+kTi...</td>\n",
       "      <td>Add to Cart</td>\n",
       "      <td>₹ 7,790.00</td>\n",
       "      <td>https://www.amazon.in/Lava-Z66-Marine-Blue-Sto...</td>\n",
       "    </tr>\n",
       "    <tr>\n",
       "      <th>304</th>\n",
       "      <td>Realme 6 Pro (Lightning Red, 128 GB) (8 GB RAM)</td>\n",
       "      <td>https://m.media-amazon.com/images/I/318pTycTWK...</td>\n",
       "      <td></td>\n",
       "      <td>₹ 19,348.00</td>\n",
       "      <td>https://www.amazon.in/Realme-Pro-Lightning-Red...</td>\n",
       "    </tr>\n",
       "    <tr>\n",
       "      <th>305</th>\n",
       "      <td>Micromax Canvas 2 Q4310 (Chrome Black, 16GB)</td>\n",
       "      <td>https://m.media-amazon.com/images/I/41PxWPOAEq...</td>\n",
       "      <td>Add to Cart</td>\n",
       "      <td>₹ 5,980.00</td>\n",
       "      <td>https://www.amazon.in/Micromax-Canvas-Q4310-Ch...</td>\n",
       "    </tr>\n",
       "    <tr>\n",
       "      <th>306</th>\n",
       "      <td>Mi Redmi 4 (Gold, 64GB)</td>\n",
       "      <td>https://m.media-amazon.com/images/I/61sMiVHbQP...</td>\n",
       "      <td></td>\n",
       "      <td>₹ 10,999.00</td>\n",
       "      <td>https://www.amazon.in/Mi-Redmi-4-Gold-64GB/dp/...</td>\n",
       "    </tr>\n",
       "    <tr>\n",
       "      <th>307</th>\n",
       "      <td>Unlocked Smartphones 3G, Note30 Plus 5.0In Scr...</td>\n",
       "      <td>https://m.media-amazon.com/images/I/71mltoovDX...</td>\n",
       "      <td>Add to Cart</td>\n",
       "      <td>₹ 7,099.00</td>\n",
       "      <td>https://www.amazon.in/Smartphones-Note30-Plus-...</td>\n",
       "    </tr>\n",
       "  </tbody>\n",
       "</table>\n",
       "<p>308 rows × 5 columns</p>\n",
       "</div>"
      ],
      "text/plain": [
       "                                          Product_Name  \\\n",
       "0    Oppo A31 (Mystery Black, 6GB RAM, 128GB Storag...   \n",
       "1             Lava Z6 Aqua Blue, 6GB RAM, 64GB Storage   \n",
       "2    Redmi 9 (Sky Blue, 4GB RAM, 64GB Storage) | Ex...   \n",
       "3    Samsung Galaxy M21 (Midnight Blue, 4GB RAM, 64...   \n",
       "4    Redmi 9A (Nature Green, 2GB Ram, 32GB Storage)...   \n",
       "..                                                 ...   \n",
       "303      Lava Z66 (Marine Blue, 3GB RAM, 32GB Storage)   \n",
       "304    Realme 6 Pro (Lightning Red, 128 GB) (8 GB RAM)   \n",
       "305       Micromax Canvas 2 Q4310 (Chrome Black, 16GB)   \n",
       "306                            Mi Redmi 4 (Gold, 64GB)   \n",
       "307  Unlocked Smartphones 3G, Note30 Plus 5.0In Scr...   \n",
       "\n",
       "                                             Image_URL Average_Rating  \\\n",
       "0    https://m.media-amazon.com/images/I/71KCwNV6Mu...                  \n",
       "1    https://m.media-amazon.com/images/I/71QGVjsVNR...                  \n",
       "2    https://m.media-amazon.com/images/I/71A9Vo1Bat...                  \n",
       "3    https://m.media-amazon.com/images/I/71dujTTJDZ...                  \n",
       "4    https://m.media-amazon.com/images/I/71sxlhYhKW...                  \n",
       "..                                                 ...            ...   \n",
       "303  https://m.media-amazon.com/images/I/61U+VB+kTi...    Add to Cart   \n",
       "304  https://m.media-amazon.com/images/I/318pTycTWK...                  \n",
       "305  https://m.media-amazon.com/images/I/41PxWPOAEq...    Add to Cart   \n",
       "306  https://m.media-amazon.com/images/I/61sMiVHbQP...                  \n",
       "307  https://m.media-amazon.com/images/I/71mltoovDX...    Add to Cart   \n",
       "\n",
       "           Price                                       Product_link  \n",
       "0    ₹ 11,990.00  https://www.amazon.in/gp/slredirect/picassoRed...  \n",
       "1     ₹ 9,999.00  https://www.amazon.in/gp/slredirect/picassoRed...  \n",
       "2     ₹ 8,799.00  https://www.amazon.in/Redmi-Sky-Blue-64GB-Stor...  \n",
       "3    ₹ 13,999.00  https://www.amazon.in/Samsung-Galaxy-Midnight-...  \n",
       "4     ₹ 6,799.00  https://www.amazon.in/Redmi-9A-2GB-32GB-Storag...  \n",
       "..           ...                                                ...  \n",
       "303   ₹ 7,790.00  https://www.amazon.in/Lava-Z66-Marine-Blue-Sto...  \n",
       "304  ₹ 19,348.00  https://www.amazon.in/Realme-Pro-Lightning-Red...  \n",
       "305   ₹ 5,980.00  https://www.amazon.in/Micromax-Canvas-Q4310-Ch...  \n",
       "306  ₹ 10,999.00  https://www.amazon.in/Mi-Redmi-4-Gold-64GB/dp/...  \n",
       "307   ₹ 7,099.00  https://www.amazon.in/Smartphones-Note30-Plus-...  \n",
       "\n",
       "[308 rows x 5 columns]"
      ]
     },
     "execution_count": 19,
     "metadata": {},
     "output_type": "execute_result"
    }
   ],
   "source": [
    "Phone_under_20000"
   ]
  },
  {
   "cell_type": "code",
   "execution_count": 20,
   "metadata": {},
   "outputs": [],
   "source": [
    "Phone_under_20000.to_csv('Phone20.csv')\n"
   ]
  },
  {
   "cell_type": "code",
   "execution_count": 21,
   "metadata": {},
   "outputs": [
    {
     "data": {
      "text/plain": [
       "(308, 5)"
      ]
     },
     "execution_count": 21,
     "metadata": {},
     "output_type": "execute_result"
    }
   ],
   "source": [
    "Phone_under_20000.shape"
   ]
  },
  {
   "cell_type": "code",
   "execution_count": null,
   "metadata": {},
   "outputs": [],
   "source": []
  }
 ],
 "metadata": {
  "kernelspec": {
   "display_name": "Python 3",
   "language": "python",
   "name": "python3"
  },
  "language_info": {
   "codemirror_mode": {
    "name": "ipython",
    "version": 3
   },
   "file_extension": ".py",
   "mimetype": "text/x-python",
   "name": "python",
   "nbconvert_exporter": "python",
   "pygments_lexer": "ipython3",
   "version": "3.8.3"
  }
 },
 "nbformat": 4,
 "nbformat_minor": 4
}
