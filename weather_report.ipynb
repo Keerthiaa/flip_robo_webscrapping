{
 "cells": [
  {
   "cell_type": "markdown",
   "metadata": {},
   "source": [
    "python program to extract information about the local weather for the city, San Francisco"
   ]
  },
  {
   "cell_type": "code",
   "execution_count": 16,
   "metadata": {},
   "outputs": [],
   "source": [
    "import pandas as pd\n",
    "import selenium\n",
    "from selenium import webdriver"
   ]
  },
  {
   "cell_type": "code",
   "execution_count": 17,
   "metadata": {},
   "outputs": [],
   "source": [
    "driver=webdriver.Chrome(r\"C:\\Users\\Admin\\Downloads\\chromedriver.exe\")"
   ]
  },
  {
   "cell_type": "code",
   "execution_count": 18,
   "metadata": {},
   "outputs": [],
   "source": [
    "url=\"https://forecast.weather.gov/MapClick.php?lat=37.777120000000025&lon=-122.41963999999996\"\n"
   ]
  },
  {
   "cell_type": "code",
   "execution_count": 19,
   "metadata": {},
   "outputs": [],
   "source": [
    "driver.get(url)"
   ]
  },
  {
   "cell_type": "code",
   "execution_count": 32,
   "metadata": {},
   "outputs": [],
   "source": [
    "Period=[]\n",
    "Short_desc=[]\n",
    "Temperature_high=[]\n",
    "Temperature_low=[]\n",
    "Detailed_desc=[]"
   ]
  },
  {
   "cell_type": "code",
   "execution_count": 46,
   "metadata": {},
   "outputs": [],
   "source": [
    "period_tags=driver.find_elements_by_xpath(\"//p[@class='period-name']\")\n",
    "for i in period_tags:\n",
    "    Period.append(i.text.replace('\\n',''))"
   ]
  },
  {
   "cell_type": "code",
   "execution_count": 53,
   "metadata": {},
   "outputs": [
    {
     "data": {
      "text/plain": [
       "['Tonight',\n",
       " 'Sunday',\n",
       " 'SundayNight',\n",
       " 'Monday',\n",
       " 'MondayNight',\n",
       " 'Tuesday',\n",
       " 'TuesdayNight',\n",
       " 'Wednesday']"
      ]
     },
     "execution_count": 53,
     "metadata": {},
     "output_type": "execute_result"
    }
   ],
   "source": [
    "Period[0:8]"
   ]
  },
  {
   "cell_type": "code",
   "execution_count": 48,
   "metadata": {},
   "outputs": [],
   "source": [
    "desc=driver.find_elements_by_xpath(\"//p[@class='short-desc']\")\n",
    "for i in desc:\n",
    "    Short_desc.append(i.text.replace('\\n',''))\n"
   ]
  },
  {
   "cell_type": "code",
   "execution_count": 52,
   "metadata": {},
   "outputs": [
    {
     "data": {
      "text/plain": [
       "['Mostly Clear',\n",
       " 'Sunny',\n",
       " 'Mostly Clear',\n",
       " 'Sunny',\n",
       " 'Clear',\n",
       " 'Sunny',\n",
       " 'Clear',\n",
       " 'Sunny']"
      ]
     },
     "execution_count": 52,
     "metadata": {},
     "output_type": "execute_result"
    }
   ],
   "source": [
    "Short_desc[0:8]"
   ]
  },
  {
   "cell_type": "code",
   "execution_count": 28,
   "metadata": {},
   "outputs": [],
   "source": [
    "temp=driver.find_elements_by_xpath(\"//div[@class='tombstone-container']/p[4]\")\n",
    "for i in temp:\n",
    "    Temperature.append(i.text.replace('\\n',''))\n",
    "del Temperature[0]\n"
   ]
  },
  {
   "cell_type": "code",
   "execution_count": 29,
   "metadata": {},
   "outputs": [
    {
     "data": {
      "text/plain": [
       "['High: 70 °F',\n",
       " 'Low: 48 °F',\n",
       " 'High: 66 °F',\n",
       " 'Low: 50 °F',\n",
       " 'High: 76 °F',\n",
       " 'Low: 52 °F',\n",
       " 'High: 76 °F',\n",
       " 'Low: 51 °F',\n",
       " 'Low: 47 °F',\n",
       " 'High: 70 °F',\n",
       " 'Low: 48 °F',\n",
       " 'High: 66 °F',\n",
       " 'Low: 50 °F',\n",
       " 'High: 76 °F',\n",
       " 'Low: 52 °F',\n",
       " 'High: 76 °F',\n",
       " 'Low: 51 °F']"
      ]
     },
     "execution_count": 29,
     "metadata": {},
     "output_type": "execute_result"
    }
   ],
   "source": [
    "Temperature[0:8]"
   ]
  },
  {
   "cell_type": "code",
   "execution_count": 44,
   "metadata": {},
   "outputs": [],
   "source": [
    "detail=driver.find_elements_by_xpath(\"//div[@class='col-sm-10 forecast-text']\")\n"
   ]
  },
  {
   "cell_type": "code",
   "execution_count": 42,
   "metadata": {},
   "outputs": [],
   "source": [
    "description=[]\n",
    "for i in detail:\n",
    "    description.append(i.text)"
   ]
  },
  {
   "cell_type": "code",
   "execution_count": 51,
   "metadata": {},
   "outputs": [
    {
     "data": {
      "text/plain": [
       "['Mostly clear, with a low around 47. West southwest wind 3 to 8 mph.',\n",
       " 'Sunny, with a high near 70. Light west wind increasing to 6 to 11 mph in the afternoon.',\n",
       " 'Mostly clear, with a low around 48. West wind 9 to 14 mph.',\n",
       " 'Sunny, with a high near 66. Light and variable wind becoming west 5 to 10 mph in the afternoon.',\n",
       " 'Clear, with a low around 50. North wind 6 to 8 mph.',\n",
       " 'Sunny, with a high near 76.',\n",
       " 'Clear, with a low around 52.',\n",
       " 'Sunny, with a high near 76.']"
      ]
     },
     "execution_count": 51,
     "metadata": {},
     "output_type": "execute_result"
    }
   ],
   "source": [
    "description[0:8]"
   ]
  },
  {
   "cell_type": "code",
   "execution_count": 55,
   "metadata": {},
   "outputs": [],
   "source": [
    "df={'Period':Period[0:8],'Short_desc':Short_desc[0:8],'Temperature':Temperature[0:8],'description':description[0:8]}\n"
   ]
  },
  {
   "cell_type": "code",
   "execution_count": 56,
   "metadata": {},
   "outputs": [],
   "source": [
    "weather= pd.DataFrame(data = df)"
   ]
  },
  {
   "cell_type": "code",
   "execution_count": 57,
   "metadata": {},
   "outputs": [
    {
     "data": {
      "text/html": [
       "<div>\n",
       "<style scoped>\n",
       "    .dataframe tbody tr th:only-of-type {\n",
       "        vertical-align: middle;\n",
       "    }\n",
       "\n",
       "    .dataframe tbody tr th {\n",
       "        vertical-align: top;\n",
       "    }\n",
       "\n",
       "    .dataframe thead th {\n",
       "        text-align: right;\n",
       "    }\n",
       "</style>\n",
       "<table border=\"1\" class=\"dataframe\">\n",
       "  <thead>\n",
       "    <tr style=\"text-align: right;\">\n",
       "      <th></th>\n",
       "      <th>Period</th>\n",
       "      <th>Short_desc</th>\n",
       "      <th>Temperature</th>\n",
       "      <th>description</th>\n",
       "    </tr>\n",
       "  </thead>\n",
       "  <tbody>\n",
       "    <tr>\n",
       "      <th>0</th>\n",
       "      <td>Tonight</td>\n",
       "      <td>Mostly Clear</td>\n",
       "      <td>High: 70 °F</td>\n",
       "      <td>Mostly clear, with a low around 47. West south...</td>\n",
       "    </tr>\n",
       "    <tr>\n",
       "      <th>1</th>\n",
       "      <td>Sunday</td>\n",
       "      <td>Sunny</td>\n",
       "      <td>Low: 48 °F</td>\n",
       "      <td>Sunny, with a high near 70. Light west wind in...</td>\n",
       "    </tr>\n",
       "    <tr>\n",
       "      <th>2</th>\n",
       "      <td>SundayNight</td>\n",
       "      <td>Mostly Clear</td>\n",
       "      <td>High: 66 °F</td>\n",
       "      <td>Mostly clear, with a low around 48. West wind ...</td>\n",
       "    </tr>\n",
       "    <tr>\n",
       "      <th>3</th>\n",
       "      <td>Monday</td>\n",
       "      <td>Sunny</td>\n",
       "      <td>Low: 50 °F</td>\n",
       "      <td>Sunny, with a high near 66. Light and variable...</td>\n",
       "    </tr>\n",
       "    <tr>\n",
       "      <th>4</th>\n",
       "      <td>MondayNight</td>\n",
       "      <td>Clear</td>\n",
       "      <td>High: 76 °F</td>\n",
       "      <td>Clear, with a low around 50. North wind 6 to 8...</td>\n",
       "    </tr>\n",
       "    <tr>\n",
       "      <th>5</th>\n",
       "      <td>Tuesday</td>\n",
       "      <td>Sunny</td>\n",
       "      <td>Low: 52 °F</td>\n",
       "      <td>Sunny, with a high near 76.</td>\n",
       "    </tr>\n",
       "    <tr>\n",
       "      <th>6</th>\n",
       "      <td>TuesdayNight</td>\n",
       "      <td>Clear</td>\n",
       "      <td>High: 76 °F</td>\n",
       "      <td>Clear, with a low around 52.</td>\n",
       "    </tr>\n",
       "    <tr>\n",
       "      <th>7</th>\n",
       "      <td>Wednesday</td>\n",
       "      <td>Sunny</td>\n",
       "      <td>Low: 51 °F</td>\n",
       "      <td>Sunny, with a high near 76.</td>\n",
       "    </tr>\n",
       "  </tbody>\n",
       "</table>\n",
       "</div>"
      ],
      "text/plain": [
       "         Period    Short_desc  Temperature  \\\n",
       "0       Tonight  Mostly Clear  High: 70 °F   \n",
       "1        Sunday         Sunny   Low: 48 °F   \n",
       "2   SundayNight  Mostly Clear  High: 66 °F   \n",
       "3        Monday         Sunny   Low: 50 °F   \n",
       "4   MondayNight         Clear  High: 76 °F   \n",
       "5       Tuesday         Sunny   Low: 52 °F   \n",
       "6  TuesdayNight         Clear  High: 76 °F   \n",
       "7     Wednesday         Sunny   Low: 51 °F   \n",
       "\n",
       "                                         description  \n",
       "0  Mostly clear, with a low around 47. West south...  \n",
       "1  Sunny, with a high near 70. Light west wind in...  \n",
       "2  Mostly clear, with a low around 48. West wind ...  \n",
       "3  Sunny, with a high near 66. Light and variable...  \n",
       "4  Clear, with a low around 50. North wind 6 to 8...  \n",
       "5                        Sunny, with a high near 76.  \n",
       "6                       Clear, with a low around 52.  \n",
       "7                        Sunny, with a high near 76.  "
      ]
     },
     "execution_count": 57,
     "metadata": {},
     "output_type": "execute_result"
    }
   ],
   "source": [
    "weather"
   ]
  },
  {
   "cell_type": "code",
   "execution_count": null,
   "metadata": {},
   "outputs": [],
   "source": []
  }
 ],
 "metadata": {
  "kernelspec": {
   "display_name": "Python 3",
   "language": "python",
   "name": "python3"
  },
  "language_info": {
   "codemirror_mode": {
    "name": "ipython",
    "version": 3
   },
   "file_extension": ".py",
   "mimetype": "text/x-python",
   "name": "python",
   "nbconvert_exporter": "python",
   "pygments_lexer": "ipython3",
   "version": "3.8.3"
  }
 },
 "nbformat": 4,
 "nbformat_minor": 4
}
